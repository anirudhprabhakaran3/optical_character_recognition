{
 "cells": [
  {
   "cell_type": "markdown",
   "id": "9022ce95-cf68-4c27-bb94-e7781ff4c081",
   "metadata": {},
   "source": [
    "This notebook aims at implementing a Linear Regression model using the scikit-learn package. \n",
    "I am using the Boston Housing dataset that is present in sklearn.datasets.\n",
    "Additional dependencies include matplotlib and numpy.\n",
    "\n",
    "The content of the notebook has been taken after following the example given in the example at scipy-lectures.org.\n",
    "\n",
    "The code in this notebook is being used only for educational purposes.\n",
    "\n",
    "Made By: Anirudh Prabhakaran <br>\n",
    "Date: April 24, 2021"
   ]
  },
  {
   "cell_type": "markdown",
   "id": "d55515b8-4798-4b70-ae56-4b2e6fc94297",
   "metadata": {},
   "source": [
    "# Importing Necessary Dependencies and Data"
   ]
  },
  {
   "cell_type": "code",
   "execution_count": 29,
   "id": "a0f49268-8bd1-47a2-adeb-79df893c0236",
   "metadata": {},
   "outputs": [],
   "source": [
    "# Importing all needed libraries\n",
    "\n",
    "import matplotlib.pyplot as plt\n",
    "import numpy as np\n",
    "\n",
    "from sklearn.datasets import load_boston\n",
    "from sklearn.model_selection import train_test_split\n",
    "from sklearn.linear_model import LinearRegression\n",
    "\n",
    "from sklearn.metrics import r2_score, mean_squared_error\n",
    "\n",
    "%matplotlib inline"
   ]
  },
  {
   "cell_type": "code",
   "execution_count": 19,
   "id": "786cb75e-3da1-4bdd-bd90-c86ba58c903b",
   "metadata": {},
   "outputs": [],
   "source": [
    "# Load the dataset\n",
    "\n",
    "data = load_boston()"
   ]
  },
  {
   "cell_type": "code",
   "execution_count": 20,
   "id": "03b942c7-dc87-4323-b41f-45ede9e8343c",
   "metadata": {},
   "outputs": [
    {
     "data": {
      "image/png": "[encoded data removed]",
      "text/plain": [
       "<Figure size 288x216 with 1 Axes>"
      ]
     },
     "metadata": {
      "needs_background": "light"
     },
     "output_type": "display_data"
    }
   ],
   "source": [
    "# Plot the initial data\n",
    "\n",
    "plt.figure(figsize=(4, 3))\n",
    "plt.hist(data.target)\n",
    "plt.xlabel('price')\n",
    "plt.ylabel('count')\n",
    "plt.tight_layout()"
   ]
  },
  {
   "cell_type": "markdown",
   "id": "4bef916d-7085-4706-ac27-051404533837",
   "metadata": {},
   "source": [
    "# Simple Linear Regression"
   ]
  },
  {
   "cell_type": "code",
   "execution_count": 21,
   "id": "922bf965-a349-497f-83ac-ba02e2147a0b",
   "metadata": {},
   "outputs": [],
   "source": [
    "# Splitting the data into training and testing datasets\n",
    "\n",
    "X_train, X_test, y_train, y_test = train_test_split(data.data, data.target)"
   ]
  },
  {
   "cell_type": "code",
   "execution_count": 22,
   "id": "225767e2-47a8-4191-9a13-5e1af3432172",
   "metadata": {},
   "outputs": [],
   "source": [
    "# Making the linear regression model\n",
    "\n",
    "linear_model = LinearRegression()"
   ]
  },
  {
   "cell_type": "code",
   "execution_count": 23,
   "id": "692c6344-853a-4f65-ab13-e37ba2dcce28",
   "metadata": {},
   "outputs": [
    {
     "data": {
      "text/plain": [
       "LinearRegression()"
      ]
     },
     "execution_count": 23,
     "metadata": {},
     "output_type": "execute_result"
    }
   ],
   "source": [
    "# Fitting the model\n",
    "\n",
    "linear_model.fit(X_train, y_train)"
   ]
  },
  {
   "cell_type": "code",
   "execution_count": 25,
   "id": "ebf01b70-a0da-44f4-b3a9-ffff3eefa16d",
   "metadata": {},
   "outputs": [],
   "source": [
    "# Making a prediction\n",
    "\n",
    "predicted = linear_model.predict(X_test)\n",
    "expected = y_test"
   ]
  },
  {
   "cell_type": "code",
   "execution_count": 26,
   "id": "7528acae-deb3-4531-961d-773db8dac2b6",
   "metadata": {},
   "outputs": [
    {
     "data": {
      "image/png": "[encoded data removed]",
      "text/plain": [
       "<Figure size 288x216 with 1 Axes>"
      ]
     },
     "metadata": {
      "needs_background": "light"
     },
     "output_type": "display_data"
    }
   ],
   "source": [
    "# Plotting predictions vs real\n",
    "plt.figure(figsize=(4, 3))\n",
    "plt.scatter(expected, predicted)\n",
    "plt.plot([0, 50], [0, 50], '--k')\n",
    "plt.axis('tight')\n",
    "plt.xlabel('True price')\n",
    "plt.ylabel('Predicted price')\n",
    "plt.tight_layout()"
   ]
  },
  {
   "cell_type": "markdown",
   "id": "703139f6-d192-425c-afe6-1b4379e7ee36",
   "metadata": {},
   "source": [
    "# Finding metrics"
   ]
  },
  {
   "cell_type": "code",
   "execution_count": 32,
   "id": "82386ea3-a98f-4ff7-8f3a-2cfd4f2dc47a",
   "metadata": {},
   "outputs": [],
   "source": [
    "# Model evaluation for training set\n",
    "y_train_predict = linear_model.predict(X_train)\n",
    "rmse_train = (np.sqrt(mean_squared_error(y_train, y_train_predict)))\n",
    "r2_train = r2_score(y_train, y_train_predict)"
   ]
  },
  {
   "cell_type": "code",
   "execution_count": 33,
   "id": "0a995511-c851-4607-9cff-67efba7049dc",
   "metadata": {},
   "outputs": [
    {
     "name": "stdout",
     "output_type": "stream",
     "text": [
      "The model performance for training set is:\n",
      "RSME is 4.192657852131137\n",
      "R2 score is 0.7746251559786097\n"
     ]
    }
   ],
   "source": [
    "print(\"The model performance for training set is:\")\n",
    "print(\"RSME is {}\".format(rmse_train))\n",
    "print(\"R2 score is {}\".format(r2_train))"
   ]
  },
  {
   "cell_type": "code",
   "execution_count": 34,
   "id": "5bdbf958-6568-4a77-a4e0-88627b405c93",
   "metadata": {},
   "outputs": [],
   "source": [
    "# Model evaluation for testing set\n",
    "\n",
    "rmse_test = (np.sqrt(mean_squared_error(expected, predicted)))\n",
    "r2_test = r2_score(expected, predicted)"
   ]
  },
  {
   "cell_type": "code",
   "execution_count": 35,
   "id": "1cc9d027-af64-4100-9f30-bcc789661dd7",
   "metadata": {},
   "outputs": [
    {
     "name": "stdout",
     "output_type": "stream",
     "text": [
      "The model performance for testing set is:\n",
      "RSME is 6.096881080256016\n",
      "R2 score is 0.6345039905973098\n"
     ]
    }
   ],
   "source": [
    "print(\"The model performance for testing set is:\")\n",
    "print(\"RSME is {}\".format(rmse_test))\n",
    "print(\"R2 score is {}\".format(r2_test))"
   ]
  },
  {
   "cell_type": "code",
   "execution_count": null,
   "id": "6521e5c4-37ee-4cfb-94f2-2dec1a4a511c",
   "metadata": {},
   "outputs": [],
   "source": []
  }
 ],
 "metadata": {
  "kernelspec": {
   "display_name": "Python 3",
   "language": "python",
   "name": "python3"
  },
  "language_info": {
   "codemirror_mode": {
    "name": "ipython",
    "version": 3
   },
   "file_extension": ".py",
   "mimetype": "text/x-python",
   "name": "python",
   "nbconvert_exporter": "python",
   "pygments_lexer": "ipython3",
   "version": "3.8.6"
  }
 },
 "nbformat": 4,
 "nbformat_minor": 5
}
